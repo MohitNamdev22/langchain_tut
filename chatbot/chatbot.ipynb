{
 "cells": [
  {
   "cell_type": "code",
   "execution_count": 1,
   "id": "a7035136",
   "metadata": {},
   "outputs": [],
   "source": [
    "import os\n",
    "from dotenv import load_dotenv\n",
    "load_dotenv()\n",
    "\n",
    "groq_api_key = os.getenv(\"GROQ_API_KEY\")\n"
   ]
  },
  {
   "cell_type": "code",
   "execution_count": 2,
   "id": "e55caedb",
   "metadata": {},
   "outputs": [
    {
     "data": {
      "text/plain": [
       "ChatGroq(client=<groq.resources.chat.completions.Completions object at 0x00000290F87EDDF0>, async_client=<groq.resources.chat.completions.AsyncCompletions object at 0x00000290F89E4C10>, model_name='Gemma2-9b-It', model_kwargs={}, groq_api_key=SecretStr('**********'))"
      ]
     },
     "execution_count": 2,
     "metadata": {},
     "output_type": "execute_result"
    }
   ],
   "source": [
    "from langchain_groq import ChatGroq\n",
    "model = ChatGroq(model=\"Gemma2-9b-It\", groq_api_key=groq_api_key)\n",
    "model"
   ]
  },
  {
   "cell_type": "code",
   "execution_count": 4,
   "id": "10d1abad",
   "metadata": {},
   "outputs": [
    {
     "data": {
      "text/plain": [
       "AIMessage(content=\"Hey Mohit, nice to meet you!  \\n\\nI'm Gemma, an AI assistant. What can I do for you today? Are you working on any interesting projects? 😊  \\n\\n\", additional_kwargs={}, response_metadata={'token_usage': {'completion_tokens': 42, 'prompt_tokens': 17, 'total_tokens': 59, 'completion_time': 0.076363636, 'prompt_time': 0.002999029, 'queue_time': 0.27200567000000003, 'total_time': 0.079362665}, 'model_name': 'Gemma2-9b-It', 'system_fingerprint': 'fp_10c08bf97d', 'service_tier': 'on_demand', 'finish_reason': 'stop', 'logprobs': None}, id='run--f6079215-7f31-4382-b656-5d5eaa831db1-0', usage_metadata={'input_tokens': 17, 'output_tokens': 42, 'total_tokens': 59})"
      ]
     },
     "execution_count": 4,
     "metadata": {},
     "output_type": "execute_result"
    }
   ],
   "source": [
    "from langchain_core.messages import HumanMessage\n",
    "model.invoke([HumanMessage(content=\"Hi, Im mohit, SDE\")])\n"
   ]
  },
  {
   "cell_type": "code",
   "execution_count": 6,
   "id": "b78121e7",
   "metadata": {},
   "outputs": [
    {
     "data": {
      "text/plain": [
       "AIMessage(content=\"You told me your name is Mohit and that you're an SDE.  \\n\\nIs there anything else I can help you with? 😄  \\n\", additional_kwargs={}, response_metadata={'token_usage': {'completion_tokens': 34, 'prompt_tokens': 73, 'total_tokens': 107, 'completion_time': 0.061818182, 'prompt_time': 0.012495864, 'queue_time': 0.5701754609999999, 'total_time': 0.074314046}, 'model_name': 'Gemma2-9b-It', 'system_fingerprint': 'fp_10c08bf97d', 'service_tier': 'on_demand', 'finish_reason': 'stop', 'logprobs': None}, id='run--9d0c2cdf-b863-469f-9c0a-311bd3b30099-0', usage_metadata={'input_tokens': 73, 'output_tokens': 34, 'total_tokens': 107})"
      ]
     },
     "execution_count": 6,
     "metadata": {},
     "output_type": "execute_result"
    }
   ],
   "source": [
    "from langchain_core.messages import AIMessage\n",
    "\n",
    "model.invoke(\n",
    "    [\n",
    "        HumanMessage(content=\"Hi, Im mohit, SDE\"),\n",
    "        AIMessage(content=\"Hey Mohit, nice to meet you!  \\n\\nI'm Gemma, an AI assistant. What can I do for you today? Are you working on any interesting projects? 😊  \\n\\n\"),\n",
    "        HumanMessage(content=\"Hey whats my name and my job\")\n",
    "    ]\n",
    ")"
   ]
  },
  {
   "cell_type": "code",
   "execution_count": 12,
   "id": "ff80ba8b",
   "metadata": {},
   "outputs": [],
   "source": [
    "from langchain_community.chat_message_histories import ChatMessageHistory\n",
    "from langchain_core.chat_history import BaseChatMessageHistory\n",
    "from langchain_core.runnables.history import RunnableWithMessageHistory\n",
    "\n",
    "store={}\n",
    "\n",
    "def get_session_history(session_id: str)-> BaseChatMessageHistory:\n",
    "    if session_id not in store:\n",
    "        store[session_id] = ChatMessageHistory()\n",
    "    return store[session_id]\n",
    "\n",
    "with_message_history = RunnableWithMessageHistory(model, get_session_history)\n"
   ]
  },
  {
   "cell_type": "code",
   "execution_count": 27,
   "id": "c1decb70",
   "metadata": {},
   "outputs": [],
   "source": [
    "config1 = {\"configurable\": {\"session_id\": \"chat1\"}}"
   ]
  },
  {
   "cell_type": "code",
   "execution_count": null,
   "id": "5caebe09",
   "metadata": {},
   "outputs": [],
   "source": []
  },
  {
   "cell_type": "code",
   "execution_count": null,
   "id": "a0449ef7",
   "metadata": {},
   "outputs": [
    {
     "data": {
      "text/plain": [
       "AIMessage(content=\"Hi Mohit! \\n\\nThat's great to hear!  Being an SDE is a challenging and rewarding career. \\n\\nWhat kind of projects are you working on these days?  Are you focused on web development, mobile apps, data science, or something else entirely? \\n\\nTell me more about your work! 😊  \\n\\n\", additional_kwargs={}, response_metadata={'token_usage': {'completion_tokens': 72, 'prompt_tokens': 114, 'total_tokens': 186, 'completion_time': 0.130909091, 'prompt_time': 0.006947168, 'queue_time': 0.264276263, 'total_time': 0.137856259}, 'model_name': 'Gemma2-9b-It', 'system_fingerprint': 'fp_10c08bf97d', 'service_tier': 'on_demand', 'finish_reason': 'stop', 'logprobs': None}, id='run--f544c69b-23ef-4c1d-ab08-64d92213b9fc-0', usage_metadata={'input_tokens': 114, 'output_tokens': 72, 'total_tokens': 186})"
      ]
     },
     "execution_count": 18,
     "metadata": {},
     "output_type": "execute_result"
    }
   ],
   "source": [
    "\n",
    "response = with_message_history.invoke(\n",
    "    [HumanMessage(content=\"Hi Im Mohit, currently im SDE\")],\n",
    "    config=config1\n",
    ")"
   ]
  },
  {
   "cell_type": "code",
   "execution_count": null,
   "id": "0f369e79",
   "metadata": {},
   "outputs": [
    {
     "data": {
      "text/plain": [
       "AIMessage(content=\"You said your name is Mohit and you are a Software Development Engineer (SDE).  \\n\\nDo you have any other questions for me?  I'm happy to chat!\\n\", additional_kwargs={}, response_metadata={'token_usage': {'completion_tokens': 40, 'prompt_tokens': 257, 'total_tokens': 297, 'completion_time': 0.072727273, 'prompt_time': 0.041004586, 'queue_time': 0.46212973, 'total_time': 0.113731859}, 'model_name': 'Gemma2-9b-It', 'system_fingerprint': 'fp_10c08bf97d', 'service_tier': 'on_demand', 'finish_reason': 'stop', 'logprobs': None}, id='run--fdab400d-3d6d-47d1-8e49-0f149e519235-0', usage_metadata={'input_tokens': 257, 'output_tokens': 40, 'total_tokens': 297})"
      ]
     },
     "execution_count": 22,
     "metadata": {},
     "output_type": "execute_result"
    }
   ],
   "source": [
    "with_message_history.invoke(\n",
    "    [HumanMessage(content=\"hey whats my name and role\")],\n",
    "    config=config1\n",
    ")"
   ]
  },
  {
   "cell_type": "code",
   "execution_count": 28,
   "id": "b62c6e59",
   "metadata": {},
   "outputs": [],
   "source": [
    "##change config --> session_id\n",
    "config2 = {\"configurable\":{\"session_id\":\"chat2\"}}"
   ]
  },
  {
   "cell_type": "code",
   "execution_count": 30,
   "id": "e2e05a28",
   "metadata": {},
   "outputs": [
    {
     "data": {
      "text/plain": [
       "AIMessage(content=\"Since I don't have memory of past conversations, I don't know your name or role.  \\n\\nIf you'd like to tell me, I'm happy to remember! 😊  \\n\\n\", additional_kwargs={}, response_metadata={'token_usage': {'completion_tokens': 45, 'prompt_tokens': 77, 'total_tokens': 122, 'completion_time': 0.081818182, 'prompt_time': 0.003901878, 'queue_time': 0.264248771, 'total_time': 0.08572006}, 'model_name': 'Gemma2-9b-It', 'system_fingerprint': 'fp_10c08bf97d', 'service_tier': 'on_demand', 'finish_reason': 'stop', 'logprobs': None}, id='run--f3608f4b-afe1-459f-870c-ce6934ec2a9e-0', usage_metadata={'input_tokens': 77, 'output_tokens': 45, 'total_tokens': 122})"
      ]
     },
     "execution_count": 30,
     "metadata": {},
     "output_type": "execute_result"
    }
   ],
   "source": [
    "with_message_history.invoke(\n",
    "    [HumanMessage(content=\"hey whats my name and role\")],\n",
    "    config=config2\n",
    ")"
   ]
  },
  {
   "cell_type": "markdown",
   "id": "6d6d85da",
   "metadata": {},
   "source": []
  }
 ],
 "metadata": {
  "kernelspec": {
   "display_name": "venv",
   "language": "python",
   "name": "python3"
  },
  "language_info": {
   "codemirror_mode": {
    "name": "ipython",
    "version": 3
   },
   "file_extension": ".py",
   "mimetype": "text/x-python",
   "name": "python",
   "nbconvert_exporter": "python",
   "pygments_lexer": "ipython3",
   "version": "3.9.7"
  }
 },
 "nbformat": 4,
 "nbformat_minor": 5
}
