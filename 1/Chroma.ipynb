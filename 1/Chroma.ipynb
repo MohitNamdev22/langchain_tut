{
 "cells": [
  {
   "cell_type": "code",
   "execution_count": 2,
   "id": "a870c49b",
   "metadata": {},
   "outputs": [],
   "source": [
    "from langchain_chroma import Chroma\n",
    "from langchain_community.document_loaders import TextLoader\n",
    "from langchain_community.embeddings import OllamaEmbeddings\n",
    "from langchain_text_splitters import RecursiveCharacterTextSplitter\n",
    "\n"
   ]
  },
  {
   "cell_type": "code",
   "execution_count": 3,
   "id": "0867e320",
   "metadata": {},
   "outputs": [
    {
     "data": {
      "text/plain": [
       "[Document(metadata={'source': 'sample.txt'}, page_content='In Germany, on the night of November 9, 1938, a quiet dread filled the air. The streets began to fill with the sounds of shattering glass, fire, and screams. That night, and into the next day, nearly 7,500 Jewish-owned businesses were smashed, hundreds of synagogues were burned, and thousands of Jewish men were arrested and sent to concentration camps.\\n\\nWhat triggered this violent outbreak?\\n\\nA 17-year-old Jewish boy named Herschel Grynszpan, upset by the Nazi deportation of his family, had shot a German diplomat in Paris. The Nazi leadership used it as a pretext to unleash a coordinated, nationwide attack on the Jewish community.\\n\\nThe event was deceptively called Kristallnacht, or \"The Night of Broken Glass\" â€” referencing the glass from all the shattered shop windows. But what really broke that night wasn\\'t just glass: it was the last illusion that German Jews could safely live under Nazi rule.\\n\\nAfter Kristallnacht, there was no doubt: the Nazi regime\\'s goal was not discriminationâ€”it was destruction. This moment became a turning point in the Holocaust, foreshadowing the horrors to come.')]"
      ]
     },
     "execution_count": 3,
     "metadata": {},
     "output_type": "execute_result"
    }
   ],
   "source": [
    "loader = TextLoader(\"sample.txt\")\n",
    "data = loader.load()\n",
    "data"
   ]
  },
  {
   "cell_type": "code",
   "execution_count": 4,
   "id": "1316e8bf",
   "metadata": {},
   "outputs": [],
   "source": [
    "text_splitter = RecursiveCharacterTextSplitter(chunk_size=500, chunk_overlap=0)\n",
    "splits=text_splitter.split_documents(data)"
   ]
  },
  {
   "cell_type": "code",
   "execution_count": 5,
   "id": "0796f1d7",
   "metadata": {},
   "outputs": [
    {
     "name": "stderr",
     "output_type": "stream",
     "text": [
      "C:\\Users\\namde\\AppData\\Local\\Temp\\ipykernel_8264\\91020916.py:1: LangChainDeprecationWarning: The class `OllamaEmbeddings` was deprecated in LangChain 0.3.1 and will be removed in 1.0.0. An updated version of the class exists in the :class:`~langchain-ollama package and should be used instead. To use it run `pip install -U :class:`~langchain-ollama` and import as `from :class:`~langchain_ollama import OllamaEmbeddings``.\n",
      "  embedding = OllamaEmbeddings(model=\"gemma:2b\")\n"
     ]
    },
    {
     "data": {
      "text/plain": [
       "<langchain_chroma.vectorstores.Chroma at 0x1957ee93fd0>"
      ]
     },
     "execution_count": 5,
     "metadata": {},
     "output_type": "execute_result"
    }
   ],
   "source": [
    "embedding = OllamaEmbeddings(model=\"gemma:2b\")\n",
    "vectordb = Chroma.from_documents(documents=splits, embedding=embedding)\n",
    "vectordb"
   ]
  },
  {
   "cell_type": "code",
   "execution_count": 6,
   "id": "74fe60ab",
   "metadata": {},
   "outputs": [
    {
     "data": {
      "text/plain": [
       "'A 17-year-old Jewish boy named Herschel Grynszpan, upset by the Nazi deportation of his family, had shot a German diplomat in Paris. The Nazi leadership used it as a pretext to unleash a coordinated, nationwide attack on the Jewish community.'"
      ]
     },
     "execution_count": 6,
     "metadata": {},
     "output_type": "execute_result"
    }
   ],
   "source": [
    "query = \"What was the main motive of Herschel?\"\n",
    "docs = vectordb.similarity_search(query)\n",
    "docs[0].page_content"
   ]
  },
  {
   "cell_type": "code",
   "execution_count": 7,
   "id": "86562aeb",
   "metadata": {},
   "outputs": [],
   "source": [
    "vectordb = Chroma.from_documents(documents=splits, embedding=embedding, persist_directory=\"./chroma_db\")\n"
   ]
  },
  {
   "cell_type": "code",
   "execution_count": 8,
   "id": "bbd75248",
   "metadata": {},
   "outputs": [
    {
     "name": "stdout",
     "output_type": "stream",
     "text": [
      "A 17-year-old Jewish boy named Herschel Grynszpan, upset by the Nazi deportation of his family, had shot a German diplomat in Paris. The Nazi leadership used it as a pretext to unleash a coordinated, nationwide attack on the Jewish community.\n"
     ]
    }
   ],
   "source": [
    "db2 = Chroma(persist_directory=\"./chroma_db\", embedding_function=embedding)\n",
    "docs = db2.similarity_search(query)\n",
    "print(docs[0].page_content)"
   ]
  },
  {
   "cell_type": "code",
   "execution_count": 9,
   "id": "092cfe36",
   "metadata": {},
   "outputs": [
    {
     "data": {
      "text/plain": [
       "'A 17-year-old Jewish boy named Herschel Grynszpan, upset by the Nazi deportation of his family, had shot a German diplomat in Paris. The Nazi leadership used it as a pretext to unleash a coordinated, nationwide attack on the Jewish community.'"
      ]
     },
     "execution_count": 9,
     "metadata": {},
     "output_type": "execute_result"
    }
   ],
   "source": [
    "retriever = vectordb.as_retriever()\n",
    "retriever.invoke(query)[0].page_content"
   ]
  }
 ],
 "metadata": {
  "kernelspec": {
   "display_name": "venv",
   "language": "python",
   "name": "python3"
  },
  "language_info": {
   "codemirror_mode": {
    "name": "ipython",
    "version": 3
   },
   "file_extension": ".py",
   "mimetype": "text/x-python",
   "name": "python",
   "nbconvert_exporter": "python",
   "pygments_lexer": "ipython3",
   "version": "3.9.7"
  }
 },
 "nbformat": 4,
 "nbformat_minor": 5
}
