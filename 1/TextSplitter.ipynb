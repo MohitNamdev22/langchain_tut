{
 "cells": [
  {
   "cell_type": "code",
   "execution_count": 1,
   "id": "7808da9a",
   "metadata": {},
   "outputs": [
    {
     "data": {
      "text/plain": [
       "[Document(metadata={'producer': 'Skia/PDF m135', 'creator': 'Mozilla/5.0 (Windows NT 10.0; Win64; x64) AppleWebKit/537.36 (KHTML, like Gecko) Chrome/135.0.0.0 Safari/537.36', 'creationdate': '2025-04-09T18:04:29+00:00', 'title': 'Mohit Resume.docx - Google Docs', 'moddate': '2025-04-09T18:04:29+00:00', 'source': 'Mohit_Resume.pdf', 'total_pages': 1, 'page': 0, 'page_label': '1'}, page_content=\"MOHIT NAMDEV \\n Indore, India |  namdevmohit0@gmail.com  | (+91)  8770847520 |  mohit-portfolio-app.vercel.app \\n https://github.com/MohitNamdev22 \\n https://www.linkedin.com/in/mohitnamdev/ \\n SKILLS  ●  Programming Skills:  C++, Python, Javascript, R, DSA  ●  Frontend Skills:  HTML, CSS, SCSS, Tailwind, Material UI,  Javascript, ReactJS, NodeJS, Recoil, Typescript, Svelte JS  ●  Backend Skills:  ExpressJS, MongoDB, MySQL, AWS  ●  Other Competencies:  Data Analytics,  Video Editing, Graphics Designing, Branding & Marketing \\n ●  Tools:  Git, Postman, Powershell, Figma \\n EDUCATION \\n ●  B.Tech Computer Science  | Medicaps University, Indore,  India  CGPA  :  8.66 | 2021 - Expected  2025  ●  XII (CBSE)  | Daisy Dales School, Indore, India  CGPA:  8.1 | 2021 \\n EXPERIENCE \\n ●  SDE Intern | Idea360AI  JAN 2025 - Present  ➢   Built end-to-end UI for Idea360AI & FeatureFlow, Integrated features like code editor, Excalidraw, and data visualizations.  ➢   Designed LLM-powered UI for FeatureFlow.Digital to auto-generate project trees and their phases from user input data.  ➢   Led API integrations and CI/CD workflows, boosting performance and cutting dev cycles by 30%. \\n ●  Frontend Developer Intern | Timechain Labs  JUNE 2024 - OCT 2024  ➢   Developed key frontend modules for Neuocron Console and Assetyzer Blockchain application  ➢   Implemented responsive designs using SvelteKit and Tailwind, improving user interaction by 30%  ➢   Integrated Google Maps API, Phone Pay Integration API, and multiple Government ID Validation APIs  ➢   Optimized frontend performance by building a dynamic, reactive codebase, resulting in a 25% improvement in page load times \\n ●  Data Science Intern | Joist.AI  JUNE 2023 - AUG 2023  ➢   Automated SF330 form completion using Python, reducing processing time by 60%  ➢   Analyzed data using Pandas and NumPy, yielding actionable insights  ➢   Contributed to data annotation and web scraping projects, improving the overall efficiency of the model by 25% \\n ●  Web Developer Intern | Beat The Virus Startup  JAN 2022 - JUL 2022  ➢   Upgraded website and integrated RazorPay, resulting in a 40% increase in successful transactions  ➢   Optimized SEO through Google Business Profile management, boosting online visibility by 50%  ➢   Developed multiple pages for BTV Website \\n ACADEMIC PROJECTS \\n ●  ElevateAI - AI-Powered Career Platform  (React.js,  Next.js, Node.js, MongoDB, PostgreSQL, Supabase)  Built  an  AI-driven  platform  to  bridge  the  industry-academia  gap  with  job-ready  tools  like  AI  mock  interviews,  ATS-optimized  resume  builder, and personalized learning roadmaps. Implemented jobs &  hackathon scraping, candidate ranking, and mentorship features. \\n ●  Artify AI - AI-Powered Image Editing Platform  (Next.js,  Node.js, MongoDB, Clerk)  Developed a SaaS platform providing AI-powered tools for image editing, including object removal and background replacement.  Built a scalable backend with Node.js, implemented credit-based systems for services, and ensured secure authentication using Clerk. \\n ●  MedFlip -  Marketplace for Medicines  ( React.js, Node.js,  Express.js, Recoil, CSS )  It  is  a  full-stack  web  application,  that  facilitates  users  in  reselling  unused  medicine  and  purchasing  medicine  through  its  platform,  managing medications and testimonials with user authentication and CRUD functionality. \\n ●  Mohit Portfolio -  Portfolio Website  ( React.js, SCSS,  Framer Motion, Vercel)  Developed  a  portfolio  website  using  React.js,  Framer  Motion  for  animations,  and  SCSS  for  styling,  showcasing  skills,  experiences,  and projects in an engaging and visually appealing manner. \\n POSITION OF RESPONSIBILITY \\n ●  President |  Student’s Technical & Innovation Club, MU ( Technical Club )  SEPT 2023- SEPT  2024 \\n ➢   Led a team of 50+ members, organizing 7 technical events, increased club engagement by 70%  ➢   Orchestrated plans for TEDx and Organized Mini Carnival biggest event in Moonstone with 4500+ students' footfall  ➢   Implemented cost-saving strategies, reducing event expenses by 25% while maintaining quality \\n ●  Club Member | IEEE Student Chapter, MU  APR 2022- APR 2023  ➢   Led a team of 5 in organizing the IC4 IEEE International Conference, attended by 200+ delegates  ➢   Edited content for social media, increasing engagement by 35%  ➢   Contributed to technical events and workshops, enhancing skills in emerging technologies \\n ACHIEVEMENTS \\n ●  Won  1st Prize  at  Quasar 2.0 Hackathon  among  201 teams  .  ●  Globally Ranked among the  Top 10 Contributors in Social  Summer of Code (SSOC’22)  ●  Won as a Best Freshers Team in  Hackosphere Hackathon by MUGDSC.  ●  Won as 2nd Runner Up  in  Hacksquad Hackathon among 750+  Teams globally  ●  The Medusa API project was selected for the  Medusa Hackathon 2022  ●  Being a speaker for the  Open Source Event - Dive Into Open Source  -  Session Reel  ●  Cleared the First Round of  Smart India Hackathon 2023  under the Agritech domain\")]"
      ]
     },
     "execution_count": 1,
     "metadata": {},
     "output_type": "execute_result"
    }
   ],
   "source": [
    "from langchain_community.document_loaders import PyPDFLoader\n",
    "loader = PyPDFLoader(\"Mohit_Resume.pdf\")\n",
    "docs = loader.load()\n",
    "docs"
   ]
  },
  {
   "cell_type": "code",
   "execution_count": 2,
   "id": "409461fc",
   "metadata": {},
   "outputs": [
    {
     "data": {
      "text/plain": [
       "[Document(metadata={'producer': 'Skia/PDF m135', 'creator': 'Mozilla/5.0 (Windows NT 10.0; Win64; x64) AppleWebKit/537.36 (KHTML, like Gecko) Chrome/135.0.0.0 Safari/537.36', 'creationdate': '2025-04-09T18:04:29+00:00', 'title': 'Mohit Resume.docx - Google Docs', 'moddate': '2025-04-09T18:04:29+00:00', 'source': 'Mohit_Resume.pdf', 'total_pages': 1, 'page': 0, 'page_label': '1'}, page_content='MOHIT NAMDEV \\n Indore, India |  namdevmohit0@gmail.com  | (+91)  8770847520 |  mohit-portfolio-app.vercel.app \\n https://github.com/MohitNamdev22 \\n https://www.linkedin.com/in/mohitnamdev/'),\n",
       " Document(metadata={'producer': 'Skia/PDF m135', 'creator': 'Mozilla/5.0 (Windows NT 10.0; Win64; x64) AppleWebKit/537.36 (KHTML, like Gecko) Chrome/135.0.0.0 Safari/537.36', 'creationdate': '2025-04-09T18:04:29+00:00', 'title': 'Mohit Resume.docx - Google Docs', 'moddate': '2025-04-09T18:04:29+00:00', 'source': 'Mohit_Resume.pdf', 'total_pages': 1, 'page': 0, 'page_label': '1'}, page_content='https://www.linkedin.com/in/mohitnamdev/ \\n SKILLS  ●  Programming Skills:  C++, Python, Javascript, R, DSA  ●  Frontend Skills:  HTML, CSS, SCSS, Tailwind, Material UI,  Javascript, ReactJS, NodeJS, Recoil, Typescript, Svelte JS  ●  Backend Skills:  ExpressJS, MongoDB, MySQL, AWS  ●  Other Competencies:  Data Analytics,  Video Editing, Graphics Designing, Branding & Marketing \\n ●  Tools:  Git, Postman, Powershell, Figma \\n EDUCATION'),\n",
       " Document(metadata={'producer': 'Skia/PDF m135', 'creator': 'Mozilla/5.0 (Windows NT 10.0; Win64; x64) AppleWebKit/537.36 (KHTML, like Gecko) Chrome/135.0.0.0 Safari/537.36', 'creationdate': '2025-04-09T18:04:29+00:00', 'title': 'Mohit Resume.docx - Google Docs', 'moddate': '2025-04-09T18:04:29+00:00', 'source': 'Mohit_Resume.pdf', 'total_pages': 1, 'page': 0, 'page_label': '1'}, page_content='EDUCATION \\n ●  B.Tech Computer Science  | Medicaps University, Indore,  India  CGPA  :  8.66 | 2021 - Expected  2025  ●  XII (CBSE)  | Daisy Dales School, Indore, India  CGPA:  8.1 | 2021 \\n EXPERIENCE'),\n",
       " Document(metadata={'producer': 'Skia/PDF m135', 'creator': 'Mozilla/5.0 (Windows NT 10.0; Win64; x64) AppleWebKit/537.36 (KHTML, like Gecko) Chrome/135.0.0.0 Safari/537.36', 'creationdate': '2025-04-09T18:04:29+00:00', 'title': 'Mohit Resume.docx - Google Docs', 'moddate': '2025-04-09T18:04:29+00:00', 'source': 'Mohit_Resume.pdf', 'total_pages': 1, 'page': 0, 'page_label': '1'}, page_content='EXPERIENCE \\n ●  SDE Intern | Idea360AI  JAN 2025 - Present  ➢   Built end-to-end UI for Idea360AI & FeatureFlow, Integrated features like code editor, Excalidraw, and data visualizations.  ➢   Designed LLM-powered UI for FeatureFlow.Digital to auto-generate project trees and their phases from user input data.  ➢   Led API integrations and CI/CD workflows, boosting performance and cutting dev cycles by 30%.'),\n",
       " Document(metadata={'producer': 'Skia/PDF m135', 'creator': 'Mozilla/5.0 (Windows NT 10.0; Win64; x64) AppleWebKit/537.36 (KHTML, like Gecko) Chrome/135.0.0.0 Safari/537.36', 'creationdate': '2025-04-09T18:04:29+00:00', 'title': 'Mohit Resume.docx - Google Docs', 'moddate': '2025-04-09T18:04:29+00:00', 'source': 'Mohit_Resume.pdf', 'total_pages': 1, 'page': 0, 'page_label': '1'}, page_content='●  Frontend Developer Intern | Timechain Labs  JUNE 2024 - OCT 2024  ➢   Developed key frontend modules for Neuocron Console and Assetyzer Blockchain application  ➢   Implemented responsive designs using SvelteKit and Tailwind, improving user interaction by 30%  ➢   Integrated Google Maps API, Phone Pay Integration API, and multiple Government ID Validation APIs  ➢   Optimized frontend performance by building a dynamic, reactive codebase, resulting in a 25% improvement in page load times'),\n",
       " Document(metadata={'producer': 'Skia/PDF m135', 'creator': 'Mozilla/5.0 (Windows NT 10.0; Win64; x64) AppleWebKit/537.36 (KHTML, like Gecko) Chrome/135.0.0.0 Safari/537.36', 'creationdate': '2025-04-09T18:04:29+00:00', 'title': 'Mohit Resume.docx - Google Docs', 'moddate': '2025-04-09T18:04:29+00:00', 'source': 'Mohit_Resume.pdf', 'total_pages': 1, 'page': 0, 'page_label': '1'}, page_content='●  Data Science Intern | Joist.AI  JUNE 2023 - AUG 2023  ➢   Automated SF330 form completion using Python, reducing processing time by 60%  ➢   Analyzed data using Pandas and NumPy, yielding actionable insights  ➢   Contributed to data annotation and web scraping projects, improving the overall efficiency of the model by 25%'),\n",
       " Document(metadata={'producer': 'Skia/PDF m135', 'creator': 'Mozilla/5.0 (Windows NT 10.0; Win64; x64) AppleWebKit/537.36 (KHTML, like Gecko) Chrome/135.0.0.0 Safari/537.36', 'creationdate': '2025-04-09T18:04:29+00:00', 'title': 'Mohit Resume.docx - Google Docs', 'moddate': '2025-04-09T18:04:29+00:00', 'source': 'Mohit_Resume.pdf', 'total_pages': 1, 'page': 0, 'page_label': '1'}, page_content='●  Web Developer Intern | Beat The Virus Startup  JAN 2022 - JUL 2022  ➢   Upgraded website and integrated RazorPay, resulting in a 40% increase in successful transactions  ➢   Optimized SEO through Google Business Profile management, boosting online visibility by 50%  ➢   Developed multiple pages for BTV Website \\n ACADEMIC PROJECTS'),\n",
       " Document(metadata={'producer': 'Skia/PDF m135', 'creator': 'Mozilla/5.0 (Windows NT 10.0; Win64; x64) AppleWebKit/537.36 (KHTML, like Gecko) Chrome/135.0.0.0 Safari/537.36', 'creationdate': '2025-04-09T18:04:29+00:00', 'title': 'Mohit Resume.docx - Google Docs', 'moddate': '2025-04-09T18:04:29+00:00', 'source': 'Mohit_Resume.pdf', 'total_pages': 1, 'page': 0, 'page_label': '1'}, page_content='ACADEMIC PROJECTS \\n ●  ElevateAI - AI-Powered Career Platform  (React.js,  Next.js, Node.js, MongoDB, PostgreSQL, Supabase)  Built  an  AI-driven  platform  to  bridge  the  industry-academia  gap  with  job-ready  tools  like  AI  mock  interviews,  ATS-optimized  resume  builder, and personalized learning roadmaps. Implemented jobs &  hackathon scraping, candidate ranking, and mentorship features.'),\n",
       " Document(metadata={'producer': 'Skia/PDF m135', 'creator': 'Mozilla/5.0 (Windows NT 10.0; Win64; x64) AppleWebKit/537.36 (KHTML, like Gecko) Chrome/135.0.0.0 Safari/537.36', 'creationdate': '2025-04-09T18:04:29+00:00', 'title': 'Mohit Resume.docx - Google Docs', 'moddate': '2025-04-09T18:04:29+00:00', 'source': 'Mohit_Resume.pdf', 'total_pages': 1, 'page': 0, 'page_label': '1'}, page_content='●  Artify AI - AI-Powered Image Editing Platform  (Next.js,  Node.js, MongoDB, Clerk)  Developed a SaaS platform providing AI-powered tools for image editing, including object removal and background replacement.  Built a scalable backend with Node.js, implemented credit-based systems for services, and ensured secure authentication using Clerk.'),\n",
       " Document(metadata={'producer': 'Skia/PDF m135', 'creator': 'Mozilla/5.0 (Windows NT 10.0; Win64; x64) AppleWebKit/537.36 (KHTML, like Gecko) Chrome/135.0.0.0 Safari/537.36', 'creationdate': '2025-04-09T18:04:29+00:00', 'title': 'Mohit Resume.docx - Google Docs', 'moddate': '2025-04-09T18:04:29+00:00', 'source': 'Mohit_Resume.pdf', 'total_pages': 1, 'page': 0, 'page_label': '1'}, page_content='●  MedFlip -  Marketplace for Medicines  ( React.js, Node.js,  Express.js, Recoil, CSS )  It  is  a  full-stack  web  application,  that  facilitates  users  in  reselling  unused  medicine  and  purchasing  medicine  through  its  platform,  managing medications and testimonials with user authentication and CRUD functionality.'),\n",
       " Document(metadata={'producer': 'Skia/PDF m135', 'creator': 'Mozilla/5.0 (Windows NT 10.0; Win64; x64) AppleWebKit/537.36 (KHTML, like Gecko) Chrome/135.0.0.0 Safari/537.36', 'creationdate': '2025-04-09T18:04:29+00:00', 'title': 'Mohit Resume.docx - Google Docs', 'moddate': '2025-04-09T18:04:29+00:00', 'source': 'Mohit_Resume.pdf', 'total_pages': 1, 'page': 0, 'page_label': '1'}, page_content='●  Mohit Portfolio -  Portfolio Website  ( React.js, SCSS,  Framer Motion, Vercel)  Developed  a  portfolio  website  using  React.js,  Framer  Motion  for  animations,  and  SCSS  for  styling,  showcasing  skills,  experiences,  and projects in an engaging and visually appealing manner. \\n POSITION OF RESPONSIBILITY \\n ●  President |  Student’s Technical & Innovation Club, MU ( Technical Club )  SEPT 2023- SEPT  2024'),\n",
       " Document(metadata={'producer': 'Skia/PDF m135', 'creator': 'Mozilla/5.0 (Windows NT 10.0; Win64; x64) AppleWebKit/537.36 (KHTML, like Gecko) Chrome/135.0.0.0 Safari/537.36', 'creationdate': '2025-04-09T18:04:29+00:00', 'title': 'Mohit Resume.docx - Google Docs', 'moddate': '2025-04-09T18:04:29+00:00', 'source': 'Mohit_Resume.pdf', 'total_pages': 1, 'page': 0, 'page_label': '1'}, page_content=\"➢   Led a team of 50+ members, organizing 7 technical events, increased club engagement by 70%  ➢   Orchestrated plans for TEDx and Organized Mini Carnival biggest event in Moonstone with 4500+ students' footfall  ➢   Implemented cost-saving strategies, reducing event expenses by 25% while maintaining quality\"),\n",
       " Document(metadata={'producer': 'Skia/PDF m135', 'creator': 'Mozilla/5.0 (Windows NT 10.0; Win64; x64) AppleWebKit/537.36 (KHTML, like Gecko) Chrome/135.0.0.0 Safari/537.36', 'creationdate': '2025-04-09T18:04:29+00:00', 'title': 'Mohit Resume.docx - Google Docs', 'moddate': '2025-04-09T18:04:29+00:00', 'source': 'Mohit_Resume.pdf', 'total_pages': 1, 'page': 0, 'page_label': '1'}, page_content='●  Club Member | IEEE Student Chapter, MU  APR 2022- APR 2023  ➢   Led a team of 5 in organizing the IC4 IEEE International Conference, attended by 200+ delegates  ➢   Edited content for social media, increasing engagement by 35%  ➢   Contributed to technical events and workshops, enhancing skills in emerging technologies \\n ACHIEVEMENTS'),\n",
       " Document(metadata={'producer': 'Skia/PDF m135', 'creator': 'Mozilla/5.0 (Windows NT 10.0; Win64; x64) AppleWebKit/537.36 (KHTML, like Gecko) Chrome/135.0.0.0 Safari/537.36', 'creationdate': '2025-04-09T18:04:29+00:00', 'title': 'Mohit Resume.docx - Google Docs', 'moddate': '2025-04-09T18:04:29+00:00', 'source': 'Mohit_Resume.pdf', 'total_pages': 1, 'page': 0, 'page_label': '1'}, page_content='●  Won  1st Prize  at  Quasar 2.0 Hackathon  among  201 teams  .  ●  Globally Ranked among the  Top 10 Contributors in Social  Summer of Code (SSOC’22)  ●  Won as a Best Freshers Team in  Hackosphere Hackathon by MUGDSC.  ●  Won as 2nd Runner Up  in  Hacksquad Hackathon among 750+  Teams globally  ●  The Medusa API project was selected for the  Medusa Hackathon 2022  ●  Being a speaker for the  Open Source Event - Dive Into Open Source  -  Session Reel  ●  Cleared the First Round of  Smart'),\n",
       " Document(metadata={'producer': 'Skia/PDF m135', 'creator': 'Mozilla/5.0 (Windows NT 10.0; Win64; x64) AppleWebKit/537.36 (KHTML, like Gecko) Chrome/135.0.0.0 Safari/537.36', 'creationdate': '2025-04-09T18:04:29+00:00', 'title': 'Mohit Resume.docx - Google Docs', 'moddate': '2025-04-09T18:04:29+00:00', 'source': 'Mohit_Resume.pdf', 'total_pages': 1, 'page': 0, 'page_label': '1'}, page_content='Reel  ●  Cleared the First Round of  Smart India Hackathon 2023  under the Agritech domain')]"
      ]
     },
     "execution_count": 2,
     "metadata": {},
     "output_type": "execute_result"
    }
   ],
   "source": [
    "from langchain_text_splitters import RecursiveCharacterTextSplitter\n",
    "\n",
    "text_splitter = RecursiveCharacterTextSplitter(chunk_size=500, chunk_overlap=50)\n",
    "final_documents = text_splitter.split_documents(docs)\n",
    "final_documents"
   ]
  },
  {
   "cell_type": "code",
   "execution_count": 3,
   "id": "941162eb",
   "metadata": {},
   "outputs": [
    {
     "data": {
      "text/plain": [
       "[Document(metadata={'source': 'sample.txt'}, page_content='Artificial Intelligence (AI) is rapidly transforming industries across the globe. From healthcare and finance to education and entertainment, AI technologies are enabling faster decision-making, personalized experiences, and greater efficiency. As machines continue to learn from data and mimic human behavior, ethical considerations and responsible development have become more important than ever. By balancing innovation with accountability, we can ensure that AI benefits society as a whole.')]"
      ]
     },
     "execution_count": 3,
     "metadata": {},
     "output_type": "execute_result"
    }
   ],
   "source": [
    "## Text Loader\n",
    "from langchain_community.document_loaders import TextLoader\n",
    "\n",
    "loader = TextLoader('sample.txt')\n",
    "docs = loader.load()\n",
    "docs"
   ]
  },
  {
   "cell_type": "code",
   "execution_count": 7,
   "id": "ad2ab67a",
   "metadata": {},
   "outputs": [
    {
     "name": "stdout",
     "output_type": "stream",
     "text": [
      "page_content='Artificial Intelligence (AI) is rapidly transforming industries across the globe. From healthcare'\n",
      "page_content='From healthcare and finance to education and entertainment, AI technologies are enabling faster'\n"
     ]
    }
   ],
   "source": [
    "speech = \"\"\n",
    "with open('sample.txt', 'r') as f:\n",
    "    speech = f.read()\n",
    "\n",
    "speech\n",
    "\n",
    "text_splitter = RecursiveCharacterTextSplitter(chunk_size=100, chunk_overlap=20)\n",
    "text = text_splitter.create_documents([speech])\n",
    "print(text[0])\n",
    "print(text[1])"
   ]
  }
 ],
 "metadata": {
  "kernelspec": {
   "display_name": "venv",
   "language": "python",
   "name": "python3"
  },
  "language_info": {
   "codemirror_mode": {
    "name": "ipython",
    "version": 3
   },
   "file_extension": ".py",
   "mimetype": "text/x-python",
   "name": "python",
   "nbconvert_exporter": "python",
   "pygments_lexer": "ipython3",
   "version": "3.9.7"
  }
 },
 "nbformat": 4,
 "nbformat_minor": 5
}
