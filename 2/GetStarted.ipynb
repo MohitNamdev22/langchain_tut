{
 "cells": [
  {
   "cell_type": "code",
   "execution_count": 14,
   "id": "aa5412ea",
   "metadata": {},
   "outputs": [],
   "source": [
    "import os\n",
    "from dotenv import load_dotenv\n",
    "load_dotenv()\n",
    "\n",
    "os.environ['GOOGLE_API_KEY']=os.getenv(\"GEMINI_API_KEY\")\n",
    "os.environ[\"LANGCHAIN_API_KEY\"]=os.getenv(\"LANGCHAIN_API_KEY\")\n",
    "os.environ[\"LANGCHAIN_TRACING_V2\"]=\"true\"\n",
    "os.environ[\"LANGCHAIN_PROJECT\"]=os.getenv(\"LANGCHAIN_PROJECT\")"
   ]
  },
  {
   "cell_type": "code",
   "execution_count": 15,
   "id": "7ceda568",
   "metadata": {},
   "outputs": [
    {
     "name": "stdout",
     "output_type": "stream",
     "text": [
      "model='models/gemini-1.5-flash' google_api_key=SecretStr('**********') client=<google.ai.generativelanguage_v1beta.services.generative_service.client.GenerativeServiceClient object at 0x0000017825288940> default_metadata=() model_kwargs={}\n"
     ]
    }
   ],
   "source": [
    "from langchain_google_genai import ChatGoogleGenerativeAI\n",
    "llm = ChatGoogleGenerativeAI(model=\"gemini-1.5-flash\")\n",
    "print(llm)\n",
    "\n"
   ]
  },
  {
   "cell_type": "code",
   "execution_count": 16,
   "id": "5082b5cb",
   "metadata": {},
   "outputs": [
    {
     "name": "stdout",
     "output_type": "stream",
     "text": [
      "The capital city of India is **New Delhi**.\n"
     ]
    }
   ],
   "source": [
    "#input a question\n",
    "result = llm.invoke(\"what is capitalcity of india\")\n",
    "print(result.content)"
   ]
  },
  {
   "cell_type": "code",
   "execution_count": 17,
   "id": "deb74be0",
   "metadata": {},
   "outputs": [
    {
     "data": {
      "text/plain": [
       "ChatPromptTemplate(input_variables=['input'], input_types={}, partial_variables={}, messages=[SystemMessagePromptTemplate(prompt=PromptTemplate(input_variables=[], input_types={}, partial_variables={}, template='You are Full Stack Developer'), additional_kwargs={}), HumanMessagePromptTemplate(prompt=PromptTemplate(input_variables=['input'], input_types={}, partial_variables={}, template='{input}'), additional_kwargs={})])"
      ]
     },
     "execution_count": 17,
     "metadata": {},
     "output_type": "execute_result"
    }
   ],
   "source": [
    "###chatprompt\n",
    "\n",
    "from langchain_core.prompts import ChatPromptTemplate\n",
    "\n",
    "prompt = ChatPromptTemplate.from_messages(\n",
    "    [\n",
    "        (\"system\",\"You are Full Stack Developer\"),\n",
    "        (\"user\",\"{input}\")\n",
    "    ]\n",
    ")\n",
    "prompt"
   ]
  },
  {
   "cell_type": "code",
   "execution_count": 18,
   "id": "1a038643",
   "metadata": {},
   "outputs": [
    {
     "name": "stdout",
     "output_type": "stream",
     "text": [
      "content=\"In React, `useEffect` is a Hook that lets you perform side effects in functional components.  Side effects are actions that reach outside the component itself, such as:\\n\\n* **Fetching data:** Making API calls to retrieve data from a server.\\n* **Manipulating the DOM directly:**  Adding event listeners, changing styles, or directly updating the HTML.\\n* **Setting up subscriptions:** Subscribing to a data stream or an event bus.\\n* **Logging:** Printing information to the console.\\n* **Setting timers:** Using `setTimeout` or `setInterval`.\\n\\n\\n**Why use `useEffect`?**\\n\\nBefore Hooks, side effects in functional components were handled less elegantly (often requiring class components). `useEffect` provides a cleaner and more concise way to manage these actions within functional components, improving code readability and maintainability.\\n\\n\\n**`useEffect` Syntax:**\\n\\n```javascript\\nuseEffect(() => {\\n  // Code to be executed after the component renders\\n  // (or after every render if no dependencies are specified)\\n\\n  // Cleanup function (optional)\\n  return () => {\\n    // Code to be executed before the component unmounts\\n    // or before the next render (if dependencies are specified)\\n  };\\n}, [dependency1, dependency2, ...]); // Dependency array (optional)\\n```\\n\\nLet's break down the parts:\\n\\n* **The function:** This is the callback function that contains the side effect code.  It runs after every render of the component.\\n\\n* **The dependency array:** This is an optional array. It tells React when to re-run the effect.\\n\\n    * **Empty array (`[]`):** The effect runs only once after the initial render, similar to `componentDidMount` in class components.\\n    * **With dependencies:** The effect runs after the initial render and whenever one of the values in the dependency array changes.  This is similar to `componentDidUpdate` in class components, but you only specify the values that trigger the update, making it more efficient.\\n    * **No dependency array:** The effect runs after every render. This is generally discouraged, as it can lead to performance issues and unexpected behavior.\\n\\n\\n* **The return function (cleanup):** This is an optional function that returns a cleanup function.  This is crucial for side effects that need to be cleaned up before the component unmounts or before the effect runs again (when dependencies change).  For example, it would remove event listeners or clear timers to prevent memory leaks or unexpected behavior.\\n\\n\\n**Example: Fetching Data**\\n\\n```javascript\\nimport React, { useState, useEffect } from 'react';\\n\\nfunction DataFetcher() {\\n  const [data, setData] = useState(null);\\n  const [loading, setLoading] = useState(true);\\n  const [error, setError] = useState(null);\\n\\n  useEffect(() => {\\n    const fetchData = async () => {\\n      try {\\n        const response = await fetch('https://api.example.com/data');\\n        if (!response.ok) {\\n          throw new Error(`HTTP error! status: ${response.status}`);\\n        }\\n        const jsonData = await response.json();\\n        setData(jsonData);\\n      } catch (error) {\\n        setError(error);\\n      } finally {\\n        setLoading(false);\\n      }\\n    };\\n\\n    fetchData();\\n  }, []); // Empty dependency array ensures this runs only once\\n\\n  if (loading) return <div>Loading...</div>;\\n  if (error) return <div>Error: {error.message}</div>;\\n  return (\\n    <div>\\n      {/* Display the fetched data */}\\n      {JSON.stringify(data)}\\n    </div>\\n  );\\n}\\n\\nexport default DataFetcher;\\n```\\n\\nThis example fetches data from an API only once when the component mounts.  The `finally` block ensures `setLoading(false)` is always called, regardless of success or failure.  The empty dependency array ensures the effect runs only once.\\n\\n\\nIn summary, `useEffect` is a powerful tool for managing side effects in React functional components, leading to cleaner, more efficient, and more maintainable code.  Careful consideration of the dependency array is key to preventing performance issues and unexpected behavior.\" additional_kwargs={} response_metadata={'prompt_feedback': {'block_reason': 0, 'safety_ratings': []}, 'finish_reason': 'STOP', 'model_name': 'gemini-1.5-flash', 'safety_ratings': []} id='run--7759535e-47f7-463c-bda3-9526b0167ddd-0' usage_metadata={'input_tokens': 12, 'output_tokens': 898, 'total_tokens': 910, 'input_token_details': {'cache_read': 0}}\n"
     ]
    }
   ],
   "source": [
    "chain = prompt | llm \n",
    "response = chain.invoke(input=\"what is useffect in reactjs\")\n",
    "print(response)"
   ]
  },
  {
   "cell_type": "code",
   "execution_count": 19,
   "id": "6caf9882",
   "metadata": {},
   "outputs": [
    {
     "name": "stdout",
     "output_type": "stream",
     "text": [
      "The primary hook used to manage local state in React is the `useState` hook.\n"
     ]
    }
   ],
   "source": [
    "#stroutput parser\n",
    "\n",
    "from langchain_core.output_parsers import StrOutputParser\n",
    "output_parser = StrOutputParser()\n",
    "chain = prompt | llm | output_parser\n",
    "response = chain.invoke(input = \"which hook is used to manage local state in react\")\n",
    "print(response)"
   ]
  },
  {
   "cell_type": "code",
   "execution_count": null,
   "id": "a34b2ea9",
   "metadata": {},
   "outputs": [],
   "source": []
  }
 ],
 "metadata": {
  "kernelspec": {
   "display_name": "venv",
   "language": "python",
   "name": "python3"
  },
  "language_info": {
   "codemirror_mode": {
    "name": "ipython",
    "version": 3
   },
   "file_extension": ".py",
   "mimetype": "text/x-python",
   "name": "python",
   "nbconvert_exporter": "python",
   "pygments_lexer": "ipython3",
   "version": "3.9.7"
  }
 },
 "nbformat": 4,
 "nbformat_minor": 5
}
